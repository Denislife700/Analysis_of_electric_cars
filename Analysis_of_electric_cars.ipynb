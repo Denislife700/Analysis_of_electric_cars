{
 "cells": [
  {
   "cell_type": "code",
   "execution_count": 213,
   "id": "2b34aeba",
   "metadata": {},
   "outputs": [],
   "source": [
    "import pandas as pd\n",
    "import numpy as np\n",
    "import re\n",
    "import math\n",
    "import matplotlib.pyplot as plt\n",
    "#import folium\n",
    "from mpl_toolkits.basemap import Basemap\n",
    "import plotly.express as px\n",
    "import plotly.graph_objects as go"
   ]
  },
  {
   "cell_type": "markdown",
   "id": "d2039f2e",
   "metadata": {},
   "source": [
    "## 1. Загрузка данных"
   ]
  },
  {
   "cell_type": "code",
   "execution_count": 342,
   "id": "b469c8b1",
   "metadata": {},
   "outputs": [
    {
     "name": "stdout",
     "output_type": "stream",
     "text": [
      "(186879, 17)\n"
     ]
    },
    {
     "data": {
      "text/html": [
       "<div>\n",
       "<style scoped>\n",
       "    .dataframe tbody tr th:only-of-type {\n",
       "        vertical-align: middle;\n",
       "    }\n",
       "\n",
       "    .dataframe tbody tr th {\n",
       "        vertical-align: top;\n",
       "    }\n",
       "\n",
       "    .dataframe thead th {\n",
       "        text-align: right;\n",
       "    }\n",
       "</style>\n",
       "<table border=\"1\" class=\"dataframe\">\n",
       "  <thead>\n",
       "    <tr style=\"text-align: right;\">\n",
       "      <th></th>\n",
       "      <th>VIN (1-10)</th>\n",
       "      <th>County</th>\n",
       "      <th>City</th>\n",
       "      <th>State</th>\n",
       "      <th>Postal Code</th>\n",
       "      <th>Model Year</th>\n",
       "      <th>Make</th>\n",
       "      <th>Model</th>\n",
       "      <th>Electric Vehicle Type</th>\n",
       "      <th>Clean Alternative Fuel Vehicle (CAFV) Eligibility</th>\n",
       "      <th>Electric Range</th>\n",
       "      <th>Base MSRP</th>\n",
       "      <th>Legislative District</th>\n",
       "      <th>DOL Vehicle ID</th>\n",
       "      <th>Vehicle Location</th>\n",
       "      <th>Electric Utility</th>\n",
       "      <th>2020 Census Tract</th>\n",
       "    </tr>\n",
       "  </thead>\n",
       "  <tbody>\n",
       "    <tr>\n",
       "      <th>0</th>\n",
       "      <td>WBY8P6C58K</td>\n",
       "      <td>King</td>\n",
       "      <td>Seattle</td>\n",
       "      <td>WA</td>\n",
       "      <td>98115.0</td>\n",
       "      <td>2019</td>\n",
       "      <td>BMW</td>\n",
       "      <td>I3</td>\n",
       "      <td>Battery Electric Vehicle (BEV)</td>\n",
       "      <td>Clean Alternative Fuel Vehicle Eligible</td>\n",
       "      <td>153</td>\n",
       "      <td>0</td>\n",
       "      <td>43.0</td>\n",
       "      <td>259254397</td>\n",
       "      <td>POINT (-122.3008235 47.6862671)</td>\n",
       "      <td>CITY OF SEATTLE - (WA)|CITY OF TACOMA - (WA)</td>\n",
       "      <td>5.303300e+10</td>\n",
       "    </tr>\n",
       "    <tr>\n",
       "      <th>1</th>\n",
       "      <td>5YJSA1DN4D</td>\n",
       "      <td>Kitsap</td>\n",
       "      <td>Bremerton</td>\n",
       "      <td>WA</td>\n",
       "      <td>98312.0</td>\n",
       "      <td>2013</td>\n",
       "      <td>TESLA</td>\n",
       "      <td>MODEL S</td>\n",
       "      <td>Battery Electric Vehicle (BEV)</td>\n",
       "      <td>Clean Alternative Fuel Vehicle Eligible</td>\n",
       "      <td>208</td>\n",
       "      <td>69900</td>\n",
       "      <td>35.0</td>\n",
       "      <td>127420940</td>\n",
       "      <td>POINT (-122.6961203 47.5759584)</td>\n",
       "      <td>PUGET SOUND ENERGY INC</td>\n",
       "      <td>5.303508e+10</td>\n",
       "    </tr>\n",
       "    <tr>\n",
       "      <th>2</th>\n",
       "      <td>5YJSA1E26J</td>\n",
       "      <td>King</td>\n",
       "      <td>Kent</td>\n",
       "      <td>WA</td>\n",
       "      <td>98042.0</td>\n",
       "      <td>2018</td>\n",
       "      <td>TESLA</td>\n",
       "      <td>MODEL S</td>\n",
       "      <td>Battery Electric Vehicle (BEV)</td>\n",
       "      <td>Clean Alternative Fuel Vehicle Eligible</td>\n",
       "      <td>249</td>\n",
       "      <td>0</td>\n",
       "      <td>47.0</td>\n",
       "      <td>170287183</td>\n",
       "      <td>POINT (-122.1145138 47.3581107)</td>\n",
       "      <td>PUGET SOUND ENERGY INC||CITY OF TACOMA - (WA)</td>\n",
       "      <td>5.303303e+10</td>\n",
       "    </tr>\n",
       "    <tr>\n",
       "      <th>3</th>\n",
       "      <td>WBY2Z2C54E</td>\n",
       "      <td>King</td>\n",
       "      <td>Bellevue</td>\n",
       "      <td>WA</td>\n",
       "      <td>98004.0</td>\n",
       "      <td>2014</td>\n",
       "      <td>BMW</td>\n",
       "      <td>I8</td>\n",
       "      <td>Plug-in Hybrid Electric Vehicle (PHEV)</td>\n",
       "      <td>Not eligible due to low battery range</td>\n",
       "      <td>14</td>\n",
       "      <td>0</td>\n",
       "      <td>41.0</td>\n",
       "      <td>205545868</td>\n",
       "      <td>POINT (-122.202397 47.619252)</td>\n",
       "      <td>PUGET SOUND ENERGY INC||CITY OF TACOMA - (WA)</td>\n",
       "      <td>5.303302e+10</td>\n",
       "    </tr>\n",
       "    <tr>\n",
       "      <th>4</th>\n",
       "      <td>5YJXCDE23J</td>\n",
       "      <td>King</td>\n",
       "      <td>Bellevue</td>\n",
       "      <td>WA</td>\n",
       "      <td>98004.0</td>\n",
       "      <td>2018</td>\n",
       "      <td>TESLA</td>\n",
       "      <td>MODEL X</td>\n",
       "      <td>Battery Electric Vehicle (BEV)</td>\n",
       "      <td>Clean Alternative Fuel Vehicle Eligible</td>\n",
       "      <td>238</td>\n",
       "      <td>0</td>\n",
       "      <td>41.0</td>\n",
       "      <td>237977386</td>\n",
       "      <td>POINT (-122.202397 47.619252)</td>\n",
       "      <td>PUGET SOUND ENERGY INC||CITY OF TACOMA - (WA)</td>\n",
       "      <td>5.303302e+10</td>\n",
       "    </tr>\n",
       "  </tbody>\n",
       "</table>\n",
       "</div>"
      ],
      "text/plain": [
       "   VIN (1-10)  County       City State  Postal Code  Model Year   Make  \\\n",
       "0  WBY8P6C58K    King    Seattle    WA      98115.0        2019    BMW   \n",
       "1  5YJSA1DN4D  Kitsap  Bremerton    WA      98312.0        2013  TESLA   \n",
       "2  5YJSA1E26J    King       Kent    WA      98042.0        2018  TESLA   \n",
       "3  WBY2Z2C54E    King   Bellevue    WA      98004.0        2014    BMW   \n",
       "4  5YJXCDE23J    King   Bellevue    WA      98004.0        2018  TESLA   \n",
       "\n",
       "     Model                   Electric Vehicle Type  \\\n",
       "0       I3          Battery Electric Vehicle (BEV)   \n",
       "1  MODEL S          Battery Electric Vehicle (BEV)   \n",
       "2  MODEL S          Battery Electric Vehicle (BEV)   \n",
       "3       I8  Plug-in Hybrid Electric Vehicle (PHEV)   \n",
       "4  MODEL X          Battery Electric Vehicle (BEV)   \n",
       "\n",
       "  Clean Alternative Fuel Vehicle (CAFV) Eligibility  Electric Range  \\\n",
       "0           Clean Alternative Fuel Vehicle Eligible             153   \n",
       "1           Clean Alternative Fuel Vehicle Eligible             208   \n",
       "2           Clean Alternative Fuel Vehicle Eligible             249   \n",
       "3             Not eligible due to low battery range              14   \n",
       "4           Clean Alternative Fuel Vehicle Eligible             238   \n",
       "\n",
       "   Base MSRP  Legislative District  DOL Vehicle ID  \\\n",
       "0          0                  43.0       259254397   \n",
       "1      69900                  35.0       127420940   \n",
       "2          0                  47.0       170287183   \n",
       "3          0                  41.0       205545868   \n",
       "4          0                  41.0       237977386   \n",
       "\n",
       "                  Vehicle Location  \\\n",
       "0  POINT (-122.3008235 47.6862671)   \n",
       "1  POINT (-122.6961203 47.5759584)   \n",
       "2  POINT (-122.1145138 47.3581107)   \n",
       "3    POINT (-122.202397 47.619252)   \n",
       "4    POINT (-122.202397 47.619252)   \n",
       "\n",
       "                                Electric Utility  2020 Census Tract  \n",
       "0   CITY OF SEATTLE - (WA)|CITY OF TACOMA - (WA)       5.303300e+10  \n",
       "1                         PUGET SOUND ENERGY INC       5.303508e+10  \n",
       "2  PUGET SOUND ENERGY INC||CITY OF TACOMA - (WA)       5.303303e+10  \n",
       "3  PUGET SOUND ENERGY INC||CITY OF TACOMA - (WA)       5.303302e+10  \n",
       "4  PUGET SOUND ENERGY INC||CITY OF TACOMA - (WA)       5.303302e+10  "
      ]
     },
     "execution_count": 342,
     "metadata": {},
     "output_type": "execute_result"
    }
   ],
   "source": [
    "# Открытие CSV файла\n",
    "df = pd.read_csv('Electric_cars_data.csv')\n",
    "print(df.shape)\n",
    "df.head()"
   ]
  },
  {
   "cell_type": "markdown",
   "id": "1307efa4",
   "metadata": {},
   "source": [
    "## 2. Data Cleaning"
   ]
  },
  {
   "cell_type": "markdown",
   "id": "b6725d6a",
   "metadata": {},
   "source": [
    "### 2.1 Проверка данных на дубликаты"
   ]
  },
  {
   "cell_type": "code",
   "execution_count": 343,
   "id": "b33674ec",
   "metadata": {},
   "outputs": [
    {
     "data": {
      "text/html": [
       "<div>\n",
       "<style scoped>\n",
       "    .dataframe tbody tr th:only-of-type {\n",
       "        vertical-align: middle;\n",
       "    }\n",
       "\n",
       "    .dataframe tbody tr th {\n",
       "        vertical-align: top;\n",
       "    }\n",
       "\n",
       "    .dataframe thead th {\n",
       "        text-align: right;\n",
       "    }\n",
       "</style>\n",
       "<table border=\"1\" class=\"dataframe\">\n",
       "  <thead>\n",
       "    <tr style=\"text-align: right;\">\n",
       "      <th></th>\n",
       "      <th>VIN (1-10)</th>\n",
       "      <th>County</th>\n",
       "      <th>City</th>\n",
       "      <th>State</th>\n",
       "      <th>Postal Code</th>\n",
       "      <th>Model Year</th>\n",
       "      <th>Make</th>\n",
       "      <th>Model</th>\n",
       "      <th>Electric Vehicle Type</th>\n",
       "      <th>Clean Alternative Fuel Vehicle (CAFV) Eligibility</th>\n",
       "      <th>Electric Range</th>\n",
       "      <th>Base MSRP</th>\n",
       "      <th>Legislative District</th>\n",
       "      <th>DOL Vehicle ID</th>\n",
       "      <th>Vehicle Location</th>\n",
       "      <th>Electric Utility</th>\n",
       "      <th>2020 Census Tract</th>\n",
       "    </tr>\n",
       "  </thead>\n",
       "  <tbody>\n",
       "  </tbody>\n",
       "</table>\n",
       "</div>"
      ],
      "text/plain": [
       "Empty DataFrame\n",
       "Columns: [VIN (1-10), County, City, State, Postal Code, Model Year, Make, Model, Electric Vehicle Type, Clean Alternative Fuel Vehicle (CAFV) Eligibility, Electric Range, Base MSRP, Legislative District, DOL Vehicle ID, Vehicle Location, Electric Utility, 2020 Census Tract]\n",
       "Index: []"
      ]
     },
     "execution_count": 343,
     "metadata": {},
     "output_type": "execute_result"
    }
   ],
   "source": [
    "df[df.duplicated()]\n",
    "#Дубликатов нет"
   ]
  },
  {
   "cell_type": "markdown",
   "id": "ab04cc21",
   "metadata": {},
   "source": [
    "### 2.2 Проверка данных на пропуски"
   ]
  },
  {
   "cell_type": "code",
   "execution_count": 344,
   "id": "0d5cfaae",
   "metadata": {
    "scrolled": false
   },
   "outputs": [
    {
     "name": "stdout",
     "output_type": "stream",
     "text": [
      "Информация о выборке:\n",
      " \n",
      "<class 'pandas.core.frame.DataFrame'>\n",
      "RangeIndex: 186879 entries, 0 to 186878\n",
      "Data columns (total 17 columns):\n",
      " #   Column                                             Non-Null Count   Dtype  \n",
      "---  ------                                             --------------   -----  \n",
      " 0   VIN (1-10)                                         186879 non-null  object \n",
      " 1   County                                             186876 non-null  object \n",
      " 2   City                                               186876 non-null  object \n",
      " 3   State                                              186879 non-null  object \n",
      " 4   Postal Code                                        186876 non-null  float64\n",
      " 5   Model Year                                         186879 non-null  int64  \n",
      " 6   Make                                               186879 non-null  object \n",
      " 7   Model                                              186879 non-null  object \n",
      " 8   Electric Vehicle Type                              186879 non-null  object \n",
      " 9   Clean Alternative Fuel Vehicle (CAFV) Eligibility  186879 non-null  object \n",
      " 10  Electric Range                                     186879 non-null  int64  \n",
      " 11  Base MSRP                                          186879 non-null  int64  \n",
      " 12  Legislative District                               186476 non-null  float64\n",
      " 13  DOL Vehicle ID                                     186879 non-null  int64  \n",
      " 14  Vehicle Location                                   186871 non-null  object \n",
      " 15  Electric Utility                                   186876 non-null  object \n",
      " 16  2020 Census Tract                                  186876 non-null  float64\n",
      "dtypes: float64(3), int64(4), object(10)\n",
      "memory usage: 24.2+ MB\n"
     ]
    },
    {
     "name": "stderr",
     "output_type": "stream",
     "text": [
      "C:\\Users\\Denis\\AppData\\Local\\Temp\\ipykernel_15516\\3110607798.py:2: FutureWarning: null_counts is deprecated. Use show_counts instead\n",
      "  df.info(null_counts=True)\n"
     ]
    }
   ],
   "source": [
    "print(\"Информация о выборке:\\n \")\n",
    "df.info(null_counts=True)"
   ]
  },
  {
   "cell_type": "code",
   "execution_count": 345,
   "id": "dccd3caf",
   "metadata": {
    "scrolled": false
   },
   "outputs": [
    {
     "name": "stdout",
     "output_type": "stream",
     "text": [
      "Процент пропущенных значений:\n",
      " \n"
     ]
    },
    {
     "data": {
      "text/plain": [
       "VIN (1-10)                                           0.000000\n",
       "DOL Vehicle ID                                       0.000000\n",
       "Base MSRP                                            0.000000\n",
       "Electric Range                                       0.000000\n",
       "Clean Alternative Fuel Vehicle (CAFV) Eligibility    0.000000\n",
       "Model                                                0.000000\n",
       "Electric Vehicle Type                                0.000000\n",
       "Model Year                                           0.000000\n",
       "State                                                0.000000\n",
       "Make                                                 0.000000\n",
       "Electric Utility                                     0.001605\n",
       "Postal Code                                          0.001605\n",
       "City                                                 0.001605\n",
       "County                                               0.001605\n",
       "2020 Census Tract                                    0.001605\n",
       "Vehicle Location                                     0.004281\n",
       "Legislative District                                 0.215648\n",
       "dtype: float64"
      ]
     },
     "execution_count": 345,
     "metadata": {},
     "output_type": "execute_result"
    }
   ],
   "source": [
    "missing_values = ((df.isna().sum() / len(df)) * 100).sort_values()\n",
    "print(\"Процент пропущенных значений:\\n \")\n",
    "missing_values"
   ]
  },
  {
   "cell_type": "code",
   "execution_count": 346,
   "id": "4f49ddcd",
   "metadata": {},
   "outputs": [
    {
     "name": "stdout",
     "output_type": "stream",
     "text": [
      "Процент пропущенных значений:\n",
      " \n"
     ]
    },
    {
     "data": {
      "text/plain": [
       "VIN (1-10)                                           0.0\n",
       "Vehicle Location                                     0.0\n",
       "DOL Vehicle ID                                       0.0\n",
       "Legislative District                                 0.0\n",
       "Base MSRP                                            0.0\n",
       "Electric Range                                       0.0\n",
       "Clean Alternative Fuel Vehicle (CAFV) Eligibility    0.0\n",
       "Electric Utility                                     0.0\n",
       "Electric Vehicle Type                                0.0\n",
       "Make                                                 0.0\n",
       "Model Year                                           0.0\n",
       "Postal Code                                          0.0\n",
       "State                                                0.0\n",
       "City                                                 0.0\n",
       "County                                               0.0\n",
       "Model                                                0.0\n",
       "2020 Census Tract                                    0.0\n",
       "dtype: float64"
      ]
     },
     "execution_count": 346,
     "metadata": {},
     "output_type": "execute_result"
    }
   ],
   "source": [
    "# Так как пустые значения составляеют максимум 0.2% то мы их просто удаляем\n",
    "df = df.dropna()\n",
    "\n",
    "missing_values = ((df.isna().sum() / len(df)) * 100).sort_values()\n",
    "print(\"Процент пропущенных значений:\\n \")\n",
    "missing_values"
   ]
  },
  {
   "cell_type": "code",
   "execution_count": 347,
   "id": "702fc2a8",
   "metadata": {},
   "outputs": [],
   "source": [
    "# Заменяем тип данных столбца Legislative District на целочисленный\n",
    "df['Legislative District'] = df['Legislative District'].astype(int)"
   ]
  },
  {
   "cell_type": "markdown",
   "id": "085da220",
   "metadata": {},
   "source": [
    "### 2.3 Формирование новых прзнаков и обработка существующих признаков"
   ]
  },
  {
   "cell_type": "code",
   "execution_count": 348,
   "id": "beca8f58",
   "metadata": {},
   "outputs": [],
   "source": [
    "# Извлекаем координаты широты и долготы\n",
    "df['Latitude'] = df['Vehicle Location'].apply(lambda x: float(x.split()[1][1:]))  \n",
    "df['Longitude'] = df['Vehicle Location'].apply(lambda x: float(x.split()[2][:-1]))  \n",
    "\n",
    "# Удаляем исходный столбец Vehicle Location\n",
    "df.drop(columns=['Vehicle Location'], inplace=True)\n"
   ]
  },
  {
   "cell_type": "code",
   "execution_count": 349,
   "id": "d98eeae4",
   "metadata": {},
   "outputs": [],
   "source": [
    "# Функция для замены значений в столбце 'Electric Vehicle Type'\n",
    "def replace_ev_type(row):\n",
    "    if 'BEV' in row['Electric Vehicle Type']:\n",
    "        return 'BEV'\n",
    "    elif 'PHEV' in row['Electric Vehicle Type']:\n",
    "        return 'PHEV'\n",
    "    else:\n",
    "        return row['Electric Vehicle Type']\n",
    "\n",
    "# Применение функции к столбцу 'Electric Vehicle Type'\n",
    "df['Electric Vehicle Type'] = df.apply(replace_ev_type, axis=1)"
   ]
  },
  {
   "cell_type": "code",
   "execution_count": 350,
   "id": "9bbbbedd",
   "metadata": {},
   "outputs": [],
   "source": [
    "# Функция для замены значений в столбце 'Clean Alternative Fuel Vehicle (CAFV) Eligibility'\n",
    "def replace_CAFV(row):\n",
    "    if 'Clean Alternative Fuel Vehicle Eligible' in row['Clean Alternative Fuel Vehicle (CAFV) Eligibility']:\n",
    "        return 'yes'\n",
    "    elif 'Not eligible due to low battery range' in row['Clean Alternative Fuel Vehicle (CAFV) Eligibility']:\n",
    "        return 'no'\n",
    "    else:\n",
    "        return 'unknown'\n",
    "\n",
    "# Применение функции к столбцу 'Clean Alternative Fuel Vehicle (CAFV) Eligibility'\n",
    "df['Clean Alternative Fuel Vehicle (CAFV) Eligibility'] = df.apply(replace_CAFV, axis=1)"
   ]
  },
  {
   "cell_type": "code",
   "execution_count": 351,
   "id": "ff109105",
   "metadata": {},
   "outputs": [
    {
     "data": {
      "text/plain": [
       "7SAYGDEE6P    1236\n",
       "7SAYGDEE7P    1227\n",
       "7SAYGDEE5P    1192\n",
       "7SAYGDEE8P    1190\n",
       "7SAYGDEEXP    1189\n",
       "              ... \n",
       "1C4RJYE63R       1\n",
       "WP0BC2Y19P       1\n",
       "WA1VABGE4M       1\n",
       "WA12ABGE5L       1\n",
       "WBA7J2C36H       1\n",
       "Name: VIN (1-10), Length: 11237, dtype: int64"
      ]
     },
     "execution_count": 351,
     "metadata": {},
     "output_type": "execute_result"
    }
   ],
   "source": [
    "df[\"VIN (1-10)\"].value_counts()"
   ]
  },
  {
   "cell_type": "code",
   "execution_count": 352,
   "id": "c8dbf1d3",
   "metadata": {},
   "outputs": [
    {
     "data": {
      "text/plain": [
       "259254397    1\n",
       "256299326    1\n",
       "148317508    1\n",
       "249781346    1\n",
       "203273213    1\n",
       "            ..\n",
       "224440478    1\n",
       "223986192    1\n",
       "228320515    1\n",
       "6771264      1\n",
       "261058612    1\n",
       "Name: DOL Vehicle ID, Length: 186471, dtype: int64"
      ]
     },
     "execution_count": 352,
     "metadata": {},
     "output_type": "execute_result"
    }
   ],
   "source": [
    "df[\"DOL Vehicle ID\"].value_counts()"
   ]
  },
  {
   "cell_type": "code",
   "execution_count": 353,
   "id": "25f209e2",
   "metadata": {},
   "outputs": [],
   "source": [
    "# Так как у VIN указаны только первые 10 цифр, то получается что этот код не уникален \n",
    "# А номер в департаменте (DOL Vehicle ID) уникален для каждого автомобиля\n",
    "# Поэтому перенесём столбец DOL Vehicle ID влево, для удобства\n",
    "desired_columns = ['DOL Vehicle ID'] + [col for col in df.columns if col != 'DOL Vehicle ID']\n",
    "df = df[desired_columns]"
   ]
  },
  {
   "cell_type": "code",
   "execution_count": 354,
   "id": "99a2a9ee",
   "metadata": {
    "scrolled": false
   },
   "outputs": [
    {
     "data": {
      "text/html": [
       "<div>\n",
       "<style scoped>\n",
       "    .dataframe tbody tr th:only-of-type {\n",
       "        vertical-align: middle;\n",
       "    }\n",
       "\n",
       "    .dataframe tbody tr th {\n",
       "        vertical-align: top;\n",
       "    }\n",
       "\n",
       "    .dataframe thead th {\n",
       "        text-align: right;\n",
       "    }\n",
       "</style>\n",
       "<table border=\"1\" class=\"dataframe\">\n",
       "  <thead>\n",
       "    <tr style=\"text-align: right;\">\n",
       "      <th></th>\n",
       "      <th>DOL Vehicle ID</th>\n",
       "      <th>VIN (1-10)</th>\n",
       "      <th>County</th>\n",
       "      <th>City</th>\n",
       "      <th>State</th>\n",
       "      <th>Postal Code</th>\n",
       "      <th>Model Year</th>\n",
       "      <th>Make</th>\n",
       "      <th>Model</th>\n",
       "      <th>Electric Vehicle Type</th>\n",
       "      <th>Clean Alternative Fuel Vehicle (CAFV) Eligibility</th>\n",
       "      <th>Electric Range</th>\n",
       "      <th>Base MSRP</th>\n",
       "      <th>Legislative District</th>\n",
       "      <th>Electric Utility</th>\n",
       "      <th>2020 Census Tract</th>\n",
       "      <th>Latitude</th>\n",
       "      <th>Longitude</th>\n",
       "    </tr>\n",
       "  </thead>\n",
       "  <tbody>\n",
       "    <tr>\n",
       "      <th>0</th>\n",
       "      <td>259254397</td>\n",
       "      <td>WBY8P6C58K</td>\n",
       "      <td>King</td>\n",
       "      <td>Seattle</td>\n",
       "      <td>WA</td>\n",
       "      <td>98115.0</td>\n",
       "      <td>2019</td>\n",
       "      <td>BMW</td>\n",
       "      <td>I3</td>\n",
       "      <td>BEV</td>\n",
       "      <td>yes</td>\n",
       "      <td>153</td>\n",
       "      <td>0</td>\n",
       "      <td>43</td>\n",
       "      <td>CITY OF SEATTLE - (WA)|CITY OF TACOMA - (WA)</td>\n",
       "      <td>5.303300e+10</td>\n",
       "      <td>-122.300824</td>\n",
       "      <td>47.686267</td>\n",
       "    </tr>\n",
       "    <tr>\n",
       "      <th>1</th>\n",
       "      <td>127420940</td>\n",
       "      <td>5YJSA1DN4D</td>\n",
       "      <td>Kitsap</td>\n",
       "      <td>Bremerton</td>\n",
       "      <td>WA</td>\n",
       "      <td>98312.0</td>\n",
       "      <td>2013</td>\n",
       "      <td>TESLA</td>\n",
       "      <td>MODEL S</td>\n",
       "      <td>BEV</td>\n",
       "      <td>yes</td>\n",
       "      <td>208</td>\n",
       "      <td>69900</td>\n",
       "      <td>35</td>\n",
       "      <td>PUGET SOUND ENERGY INC</td>\n",
       "      <td>5.303508e+10</td>\n",
       "      <td>-122.696120</td>\n",
       "      <td>47.575958</td>\n",
       "    </tr>\n",
       "    <tr>\n",
       "      <th>2</th>\n",
       "      <td>170287183</td>\n",
       "      <td>5YJSA1E26J</td>\n",
       "      <td>King</td>\n",
       "      <td>Kent</td>\n",
       "      <td>WA</td>\n",
       "      <td>98042.0</td>\n",
       "      <td>2018</td>\n",
       "      <td>TESLA</td>\n",
       "      <td>MODEL S</td>\n",
       "      <td>BEV</td>\n",
       "      <td>yes</td>\n",
       "      <td>249</td>\n",
       "      <td>0</td>\n",
       "      <td>47</td>\n",
       "      <td>PUGET SOUND ENERGY INC||CITY OF TACOMA - (WA)</td>\n",
       "      <td>5.303303e+10</td>\n",
       "      <td>-122.114514</td>\n",
       "      <td>47.358111</td>\n",
       "    </tr>\n",
       "    <tr>\n",
       "      <th>3</th>\n",
       "      <td>205545868</td>\n",
       "      <td>WBY2Z2C54E</td>\n",
       "      <td>King</td>\n",
       "      <td>Bellevue</td>\n",
       "      <td>WA</td>\n",
       "      <td>98004.0</td>\n",
       "      <td>2014</td>\n",
       "      <td>BMW</td>\n",
       "      <td>I8</td>\n",
       "      <td>PHEV</td>\n",
       "      <td>no</td>\n",
       "      <td>14</td>\n",
       "      <td>0</td>\n",
       "      <td>41</td>\n",
       "      <td>PUGET SOUND ENERGY INC||CITY OF TACOMA - (WA)</td>\n",
       "      <td>5.303302e+10</td>\n",
       "      <td>-122.202397</td>\n",
       "      <td>47.619252</td>\n",
       "    </tr>\n",
       "    <tr>\n",
       "      <th>4</th>\n",
       "      <td>237977386</td>\n",
       "      <td>5YJXCDE23J</td>\n",
       "      <td>King</td>\n",
       "      <td>Bellevue</td>\n",
       "      <td>WA</td>\n",
       "      <td>98004.0</td>\n",
       "      <td>2018</td>\n",
       "      <td>TESLA</td>\n",
       "      <td>MODEL X</td>\n",
       "      <td>BEV</td>\n",
       "      <td>yes</td>\n",
       "      <td>238</td>\n",
       "      <td>0</td>\n",
       "      <td>41</td>\n",
       "      <td>PUGET SOUND ENERGY INC||CITY OF TACOMA - (WA)</td>\n",
       "      <td>5.303302e+10</td>\n",
       "      <td>-122.202397</td>\n",
       "      <td>47.619252</td>\n",
       "    </tr>\n",
       "  </tbody>\n",
       "</table>\n",
       "</div>"
      ],
      "text/plain": [
       "   DOL Vehicle ID  VIN (1-10)  County       City State  Postal Code  \\\n",
       "0       259254397  WBY8P6C58K    King    Seattle    WA      98115.0   \n",
       "1       127420940  5YJSA1DN4D  Kitsap  Bremerton    WA      98312.0   \n",
       "2       170287183  5YJSA1E26J    King       Kent    WA      98042.0   \n",
       "3       205545868  WBY2Z2C54E    King   Bellevue    WA      98004.0   \n",
       "4       237977386  5YJXCDE23J    King   Bellevue    WA      98004.0   \n",
       "\n",
       "   Model Year   Make    Model Electric Vehicle Type  \\\n",
       "0        2019    BMW       I3                   BEV   \n",
       "1        2013  TESLA  MODEL S                   BEV   \n",
       "2        2018  TESLA  MODEL S                   BEV   \n",
       "3        2014    BMW       I8                  PHEV   \n",
       "4        2018  TESLA  MODEL X                   BEV   \n",
       "\n",
       "  Clean Alternative Fuel Vehicle (CAFV) Eligibility  Electric Range  \\\n",
       "0                                               yes             153   \n",
       "1                                               yes             208   \n",
       "2                                               yes             249   \n",
       "3                                                no              14   \n",
       "4                                               yes             238   \n",
       "\n",
       "   Base MSRP  Legislative District  \\\n",
       "0          0                    43   \n",
       "1      69900                    35   \n",
       "2          0                    47   \n",
       "3          0                    41   \n",
       "4          0                    41   \n",
       "\n",
       "                                Electric Utility  2020 Census Tract  \\\n",
       "0   CITY OF SEATTLE - (WA)|CITY OF TACOMA - (WA)       5.303300e+10   \n",
       "1                         PUGET SOUND ENERGY INC       5.303508e+10   \n",
       "2  PUGET SOUND ENERGY INC||CITY OF TACOMA - (WA)       5.303303e+10   \n",
       "3  PUGET SOUND ENERGY INC||CITY OF TACOMA - (WA)       5.303302e+10   \n",
       "4  PUGET SOUND ENERGY INC||CITY OF TACOMA - (WA)       5.303302e+10   \n",
       "\n",
       "     Latitude  Longitude  \n",
       "0 -122.300824  47.686267  \n",
       "1 -122.696120  47.575958  \n",
       "2 -122.114514  47.358111  \n",
       "3 -122.202397  47.619252  \n",
       "4 -122.202397  47.619252  "
      ]
     },
     "execution_count": 354,
     "metadata": {},
     "output_type": "execute_result"
    }
   ],
   "source": [
    "df.head()"
   ]
  },
  {
   "cell_type": "code",
   "execution_count": 355,
   "id": "b38e02e6",
   "metadata": {},
   "outputs": [],
   "source": [
    "# Функция для очистки столбца Electric Utility\n",
    "def clean_electric_utility(text):\n",
    "    # Заменяем все символы, не являющиеся буквами и цифрами, на пробелы\n",
    "    cleaned_text = re.sub(r'[^a-zA-Z0-9\\s]', ' ', text)\n",
    "    # Удаляем лишние пробелы (более одного)\n",
    "    cleaned_text = re.sub(r'\\s+', ' ', cleaned_text)\n",
    "    # Удаляем пробелы в начале и конце строки\n",
    "    cleaned_text = cleaned_text.strip()\n",
    "    return cleaned_text\n",
    "\n",
    "# Применяем функцию к столбцу Electric Utility\n",
    "df['Electric Utility'] = df['Electric Utility'].apply(clean_electric_utility)"
   ]
  },
  {
   "cell_type": "code",
   "execution_count": 356,
   "id": "b4ff2945",
   "metadata": {},
   "outputs": [],
   "source": [
    "# Составляем столбцов, которые нужно преобразовать к строчным буквам\n",
    "columns_to_lower = ['County', 'City', 'State', 'Make', 'Model', \n",
    "                    'Electric Vehicle Type', 'Clean Alternative Fuel Vehicle (CAFV) Eligibility',\n",
    "                    'Electric Utility']\n",
    "\n",
    "# Делаем регистр букв строчным в колонках, перечисленных выше\n",
    "for col in columns_to_lower:\n",
    "    df[col] = df[col].str.lower()"
   ]
  },
  {
   "cell_type": "code",
   "execution_count": 357,
   "id": "2765fd72",
   "metadata": {},
   "outputs": [
    {
     "data": {
      "text/plain": [
       "75"
      ]
     },
     "execution_count": 357,
     "metadata": {},
     "output_type": "execute_result"
    }
   ],
   "source": [
    "# Смотрим колиество уникальных наименований в столбце Electric Utility\n",
    "df[\"Electric Utility\"].nunique()\n",
    "# Их немного, поэтому дальнейшие преобразования не ребуются"
   ]
  },
  {
   "cell_type": "code",
   "execution_count": 358,
   "id": "58554c3c",
   "metadata": {},
   "outputs": [],
   "source": [
    "# Переименовываем столбцы в датасете для удобства\n",
    "df = df.rename(columns={\n",
    "    'DOL Vehicle ID': 'vehicle_id',\n",
    "    'VIN (1-10)': 'vin10',\n",
    "    'County': 'county',\n",
    "    'City': 'city',\n",
    "    'State': 'state',\n",
    "    'Postal Code': 'postal_code',\n",
    "    'Model Year': 'model_year',\n",
    "    'Make': 'make',\n",
    "    'Model': 'model',\n",
    "    'Electric Vehicle Type': 'ev_type',\n",
    "    'Clean Alternative Fuel Vehicle (CAFV) Eligibility': 'cafv',\n",
    "    'Electric Range': 'electric_range',\n",
    "    'Base MSRP': 'base_msrp',\n",
    "    'Legislative District': 'legislative_district',\n",
    "    'Electric Utility': 'electric_utility',\n",
    "    '2020 Census Tract': 'census_tract',\n",
    "    'Latitude': 'latitude',\n",
    "    'Longitude': 'longitude'\n",
    "})\n"
   ]
  },
  {
   "cell_type": "code",
   "execution_count": 359,
   "id": "694654f2",
   "metadata": {
    "scrolled": true
   },
   "outputs": [
    {
     "data": {
      "text/html": [
       "<div>\n",
       "<style scoped>\n",
       "    .dataframe tbody tr th:only-of-type {\n",
       "        vertical-align: middle;\n",
       "    }\n",
       "\n",
       "    .dataframe tbody tr th {\n",
       "        vertical-align: top;\n",
       "    }\n",
       "\n",
       "    .dataframe thead th {\n",
       "        text-align: right;\n",
       "    }\n",
       "</style>\n",
       "<table border=\"1\" class=\"dataframe\">\n",
       "  <thead>\n",
       "    <tr style=\"text-align: right;\">\n",
       "      <th></th>\n",
       "      <th>vehicle_id</th>\n",
       "      <th>vin10</th>\n",
       "      <th>county</th>\n",
       "      <th>city</th>\n",
       "      <th>state</th>\n",
       "      <th>postal_code</th>\n",
       "      <th>model_year</th>\n",
       "      <th>make</th>\n",
       "      <th>model</th>\n",
       "      <th>ev_type</th>\n",
       "      <th>cafv</th>\n",
       "      <th>electric_range</th>\n",
       "      <th>base_msrp</th>\n",
       "      <th>legislative_district</th>\n",
       "      <th>electric_utility</th>\n",
       "      <th>census_tract</th>\n",
       "      <th>latitude</th>\n",
       "      <th>longitude</th>\n",
       "    </tr>\n",
       "  </thead>\n",
       "  <tbody>\n",
       "    <tr>\n",
       "      <th>0</th>\n",
       "      <td>259254397</td>\n",
       "      <td>WBY8P6C58K</td>\n",
       "      <td>king</td>\n",
       "      <td>seattle</td>\n",
       "      <td>wa</td>\n",
       "      <td>98115.0</td>\n",
       "      <td>2019</td>\n",
       "      <td>bmw</td>\n",
       "      <td>i3</td>\n",
       "      <td>bev</td>\n",
       "      <td>yes</td>\n",
       "      <td>153</td>\n",
       "      <td>0</td>\n",
       "      <td>43</td>\n",
       "      <td>city of seattle wa city of tacoma wa</td>\n",
       "      <td>5.303300e+10</td>\n",
       "      <td>-122.300824</td>\n",
       "      <td>47.686267</td>\n",
       "    </tr>\n",
       "    <tr>\n",
       "      <th>1</th>\n",
       "      <td>127420940</td>\n",
       "      <td>5YJSA1DN4D</td>\n",
       "      <td>kitsap</td>\n",
       "      <td>bremerton</td>\n",
       "      <td>wa</td>\n",
       "      <td>98312.0</td>\n",
       "      <td>2013</td>\n",
       "      <td>tesla</td>\n",
       "      <td>model s</td>\n",
       "      <td>bev</td>\n",
       "      <td>yes</td>\n",
       "      <td>208</td>\n",
       "      <td>69900</td>\n",
       "      <td>35</td>\n",
       "      <td>puget sound energy inc</td>\n",
       "      <td>5.303508e+10</td>\n",
       "      <td>-122.696120</td>\n",
       "      <td>47.575958</td>\n",
       "    </tr>\n",
       "    <tr>\n",
       "      <th>2</th>\n",
       "      <td>170287183</td>\n",
       "      <td>5YJSA1E26J</td>\n",
       "      <td>king</td>\n",
       "      <td>kent</td>\n",
       "      <td>wa</td>\n",
       "      <td>98042.0</td>\n",
       "      <td>2018</td>\n",
       "      <td>tesla</td>\n",
       "      <td>model s</td>\n",
       "      <td>bev</td>\n",
       "      <td>yes</td>\n",
       "      <td>249</td>\n",
       "      <td>0</td>\n",
       "      <td>47</td>\n",
       "      <td>puget sound energy inc city of tacoma wa</td>\n",
       "      <td>5.303303e+10</td>\n",
       "      <td>-122.114514</td>\n",
       "      <td>47.358111</td>\n",
       "    </tr>\n",
       "    <tr>\n",
       "      <th>3</th>\n",
       "      <td>205545868</td>\n",
       "      <td>WBY2Z2C54E</td>\n",
       "      <td>king</td>\n",
       "      <td>bellevue</td>\n",
       "      <td>wa</td>\n",
       "      <td>98004.0</td>\n",
       "      <td>2014</td>\n",
       "      <td>bmw</td>\n",
       "      <td>i8</td>\n",
       "      <td>phev</td>\n",
       "      <td>no</td>\n",
       "      <td>14</td>\n",
       "      <td>0</td>\n",
       "      <td>41</td>\n",
       "      <td>puget sound energy inc city of tacoma wa</td>\n",
       "      <td>5.303302e+10</td>\n",
       "      <td>-122.202397</td>\n",
       "      <td>47.619252</td>\n",
       "    </tr>\n",
       "    <tr>\n",
       "      <th>4</th>\n",
       "      <td>237977386</td>\n",
       "      <td>5YJXCDE23J</td>\n",
       "      <td>king</td>\n",
       "      <td>bellevue</td>\n",
       "      <td>wa</td>\n",
       "      <td>98004.0</td>\n",
       "      <td>2018</td>\n",
       "      <td>tesla</td>\n",
       "      <td>model x</td>\n",
       "      <td>bev</td>\n",
       "      <td>yes</td>\n",
       "      <td>238</td>\n",
       "      <td>0</td>\n",
       "      <td>41</td>\n",
       "      <td>puget sound energy inc city of tacoma wa</td>\n",
       "      <td>5.303302e+10</td>\n",
       "      <td>-122.202397</td>\n",
       "      <td>47.619252</td>\n",
       "    </tr>\n",
       "  </tbody>\n",
       "</table>\n",
       "</div>"
      ],
      "text/plain": [
       "   vehicle_id       vin10  county       city state  postal_code  model_year  \\\n",
       "0   259254397  WBY8P6C58K    king    seattle    wa      98115.0        2019   \n",
       "1   127420940  5YJSA1DN4D  kitsap  bremerton    wa      98312.0        2013   \n",
       "2   170287183  5YJSA1E26J    king       kent    wa      98042.0        2018   \n",
       "3   205545868  WBY2Z2C54E    king   bellevue    wa      98004.0        2014   \n",
       "4   237977386  5YJXCDE23J    king   bellevue    wa      98004.0        2018   \n",
       "\n",
       "    make    model ev_type cafv  electric_range  base_msrp  \\\n",
       "0    bmw       i3     bev  yes             153          0   \n",
       "1  tesla  model s     bev  yes             208      69900   \n",
       "2  tesla  model s     bev  yes             249          0   \n",
       "3    bmw       i8    phev   no              14          0   \n",
       "4  tesla  model x     bev  yes             238          0   \n",
       "\n",
       "   legislative_district                          electric_utility  \\\n",
       "0                    43      city of seattle wa city of tacoma wa   \n",
       "1                    35                    puget sound energy inc   \n",
       "2                    47  puget sound energy inc city of tacoma wa   \n",
       "3                    41  puget sound energy inc city of tacoma wa   \n",
       "4                    41  puget sound energy inc city of tacoma wa   \n",
       "\n",
       "   census_tract    latitude  longitude  \n",
       "0  5.303300e+10 -122.300824  47.686267  \n",
       "1  5.303508e+10 -122.696120  47.575958  \n",
       "2  5.303303e+10 -122.114514  47.358111  \n",
       "3  5.303302e+10 -122.202397  47.619252  \n",
       "4  5.303302e+10 -122.202397  47.619252  "
      ]
     },
     "execution_count": 359,
     "metadata": {},
     "output_type": "execute_result"
    }
   ],
   "source": [
    "df.head()"
   ]
  },
  {
   "cell_type": "code",
   "execution_count": 360,
   "id": "e84fef34",
   "metadata": {
    "scrolled": false
   },
   "outputs": [
    {
     "data": {
      "text/plain": [
       "0         183164\n",
       "69900       1343\n",
       "31950        379\n",
       "52900        220\n",
       "32250        139\n",
       "59900        129\n",
       "54950        129\n",
       "39995        111\n",
       "36900        104\n",
       "44100         96\n",
       "64950         85\n",
       "45600         80\n",
       "33950         72\n",
       "34995         67\n",
       "52650         67\n",
       "36800         54\n",
       "55700         51\n",
       "53400         38\n",
       "110950        21\n",
       "81100         21\n",
       "98950         20\n",
       "90700         18\n",
       "75095         12\n",
       "184400        10\n",
       "102000         9\n",
       "43700          8\n",
       "89100          8\n",
       "109000         7\n",
       "91250          5\n",
       "32995          3\n",
       "845000         1\n",
       "Name: base_msrp, dtype: int64"
      ]
     },
     "execution_count": 360,
     "metadata": {},
     "output_type": "execute_result"
    }
   ],
   "source": [
    "df.base_msrp.value_counts()\n",
    "# Здесь мы видим, что на большую чать автомобилей базовые цены неизвестны"
   ]
  },
  {
   "cell_type": "code",
   "execution_count": 361,
   "id": "e34a1be0",
   "metadata": {},
   "outputs": [
    {
     "data": {
      "text/html": [
       "<div>\n",
       "<style scoped>\n",
       "    .dataframe tbody tr th:only-of-type {\n",
       "        vertical-align: middle;\n",
       "    }\n",
       "\n",
       "    .dataframe tbody tr th {\n",
       "        vertical-align: top;\n",
       "    }\n",
       "\n",
       "    .dataframe thead th {\n",
       "        text-align: right;\n",
       "    }\n",
       "</style>\n",
       "<table border=\"1\" class=\"dataframe\">\n",
       "  <thead>\n",
       "    <tr style=\"text-align: right;\">\n",
       "      <th></th>\n",
       "      <th>make</th>\n",
       "      <th>model</th>\n",
       "      <th>model_year</th>\n",
       "      <th>count</th>\n",
       "    </tr>\n",
       "  </thead>\n",
       "  <tbody>\n",
       "    <tr>\n",
       "      <th>0</th>\n",
       "      <td>alfa romeo</td>\n",
       "      <td>tonale</td>\n",
       "      <td>2024</td>\n",
       "      <td>47</td>\n",
       "    </tr>\n",
       "    <tr>\n",
       "      <th>1</th>\n",
       "      <td>audi</td>\n",
       "      <td>a3</td>\n",
       "      <td>2016</td>\n",
       "      <td>204</td>\n",
       "    </tr>\n",
       "    <tr>\n",
       "      <th>2</th>\n",
       "      <td>audi</td>\n",
       "      <td>a3</td>\n",
       "      <td>2017</td>\n",
       "      <td>188</td>\n",
       "    </tr>\n",
       "    <tr>\n",
       "      <th>3</th>\n",
       "      <td>audi</td>\n",
       "      <td>a3</td>\n",
       "      <td>2018</td>\n",
       "      <td>167</td>\n",
       "    </tr>\n",
       "    <tr>\n",
       "      <th>4</th>\n",
       "      <td>audi</td>\n",
       "      <td>a7</td>\n",
       "      <td>2021</td>\n",
       "      <td>13</td>\n",
       "    </tr>\n",
       "    <tr>\n",
       "      <th>...</th>\n",
       "      <td>...</td>\n",
       "      <td>...</td>\n",
       "      <td>...</td>\n",
       "      <td>...</td>\n",
       "    </tr>\n",
       "    <tr>\n",
       "      <th>465</th>\n",
       "      <td>volvo</td>\n",
       "      <td>xc90</td>\n",
       "      <td>2020</td>\n",
       "      <td>99</td>\n",
       "    </tr>\n",
       "    <tr>\n",
       "      <th>466</th>\n",
       "      <td>volvo</td>\n",
       "      <td>xc90</td>\n",
       "      <td>2021</td>\n",
       "      <td>277</td>\n",
       "    </tr>\n",
       "    <tr>\n",
       "      <th>467</th>\n",
       "      <td>volvo</td>\n",
       "      <td>xc90</td>\n",
       "      <td>2022</td>\n",
       "      <td>343</td>\n",
       "    </tr>\n",
       "    <tr>\n",
       "      <th>468</th>\n",
       "      <td>volvo</td>\n",
       "      <td>xc90</td>\n",
       "      <td>2023</td>\n",
       "      <td>255</td>\n",
       "    </tr>\n",
       "    <tr>\n",
       "      <th>469</th>\n",
       "      <td>volvo</td>\n",
       "      <td>xc90</td>\n",
       "      <td>2024</td>\n",
       "      <td>175</td>\n",
       "    </tr>\n",
       "  </tbody>\n",
       "</table>\n",
       "<p>470 rows × 4 columns</p>\n",
       "</div>"
      ],
      "text/plain": [
       "           make   model  model_year  count\n",
       "0    alfa romeo  tonale        2024     47\n",
       "1          audi      a3        2016    204\n",
       "2          audi      a3        2017    188\n",
       "3          audi      a3        2018    167\n",
       "4          audi      a7        2021     13\n",
       "..          ...     ...         ...    ...\n",
       "465       volvo    xc90        2020     99\n",
       "466       volvo    xc90        2021    277\n",
       "467       volvo    xc90        2022    343\n",
       "468       volvo    xc90        2023    255\n",
       "469       volvo    xc90        2024    175\n",
       "\n",
       "[470 rows x 4 columns]"
      ]
     },
     "execution_count": 361,
     "metadata": {},
     "output_type": "execute_result"
    }
   ],
   "source": [
    "df_zero_msrp = df[df['base_msrp'] == 0]\n",
    "unique_groups_msrp = df_zero_msrp.groupby(['make', 'model' , 'model_year']).size().reset_index(name='count')\n",
    "unique_groups_msrp"
   ]
  },
  {
   "cell_type": "code",
   "execution_count": 362,
   "id": "0071d66f",
   "metadata": {},
   "outputs": [],
   "source": [
    "# Получилось 470 автомобилей у которых неизвестна базовая цена.\n",
    "# Можно восстановить цены вручную, но в данный момент у меня такая задача не стоит\n",
    "# В таком случае я удалю колонку base_msrp\n",
    "df = df.drop(columns=['base_msrp'])"
   ]
  },
  {
   "cell_type": "code",
   "execution_count": 363,
   "id": "267139ee",
   "metadata": {},
   "outputs": [
    {
     "data": {
      "text/plain": [
       "0      98598\n",
       "215     6420\n",
       "32      4321\n",
       "25      4252\n",
       "220     4043\n",
       "       ...  \n",
       "11         3\n",
       "95         3\n",
       "51         2\n",
       "57         2\n",
       "46         1\n",
       "Name: electric_range, Length: 103, dtype: int64"
      ]
     },
     "execution_count": 363,
     "metadata": {},
     "output_type": "execute_result"
    }
   ],
   "source": [
    "df.electric_range.value_counts()"
   ]
  },
  {
   "cell_type": "code",
   "execution_count": 364,
   "id": "22243f60",
   "metadata": {},
   "outputs": [],
   "source": [
    "# Делаем так, чтобы у одинаковых моделей автомобиля, независимо от года был одинаковый пробег на одном заряде\n",
    "df['electric_range'] = df.groupby(['make', 'model'])['electric_range'].transform('max')"
   ]
  },
  {
   "cell_type": "code",
   "execution_count": 365,
   "id": "371d274e",
   "metadata": {},
   "outputs": [
    {
     "data": {
      "text/plain": [
       "291    38577\n",
       "0      32195\n",
       "322    30619\n",
       "215    13422\n",
       "337     7809\n",
       "       ...  \n",
       "46        12\n",
       "13        10\n",
       "56         8\n",
       "12         1\n",
       "36         1\n",
       "Name: electric_range, Length: 64, dtype: int64"
      ]
     },
     "execution_count": 365,
     "metadata": {},
     "output_type": "execute_result"
    }
   ],
   "source": [
    "df.electric_range.value_counts()"
   ]
  },
  {
   "cell_type": "code",
   "execution_count": 366,
   "id": "652abd1f",
   "metadata": {},
   "outputs": [],
   "source": [
    "# Найдем пять самых популярных ненулевых значений в столбце electric_range\n",
    "top_values = df[df['electric_range'] != 0]['electric_range'].value_counts().nlargest(5).index.tolist()\n",
    "\n",
    "# Вычислим среднее арифметическое для топ-5 значений и округлим его вверх до целого числа\n",
    "mean_value = math.ceil(np.mean(top_values))\n",
    "\n",
    "# Заменим нулевые значения в столбце electric_range на округленное среднее арифметическое\n",
    "df['electric_range'] = df['electric_range'].replace(0, mean_value)"
   ]
  },
  {
   "cell_type": "code",
   "execution_count": 367,
   "id": "3875d186",
   "metadata": {},
   "outputs": [],
   "source": [
    "# Сброс индексов\n",
    "df = df.reset_index(drop=True)"
   ]
  },
  {
   "cell_type": "code",
   "execution_count": 368,
   "id": "2194e770",
   "metadata": {},
   "outputs": [],
   "source": [
    "# Сохраняем полученный датасет в новый csv файл\n",
    "df.to_csv('electric_cars_clean.csv', index=False)\n",
    "# Дальнейша работа будет осуществлятся уже на новом датасете"
   ]
  },
  {
   "cell_type": "markdown",
   "id": "ad60adc4",
   "metadata": {},
   "source": [
    "## 3. Анализ данных"
   ]
  },
  {
   "cell_type": "code",
   "execution_count": 191,
   "id": "e66615c2",
   "metadata": {
    "scrolled": false
   },
   "outputs": [
    {
     "name": "stdout",
     "output_type": "stream",
     "text": [
      "(186471, 17)\n"
     ]
    },
    {
     "data": {
      "text/html": [
       "<div>\n",
       "<style scoped>\n",
       "    .dataframe tbody tr th:only-of-type {\n",
       "        vertical-align: middle;\n",
       "    }\n",
       "\n",
       "    .dataframe tbody tr th {\n",
       "        vertical-align: top;\n",
       "    }\n",
       "\n",
       "    .dataframe thead th {\n",
       "        text-align: right;\n",
       "    }\n",
       "</style>\n",
       "<table border=\"1\" class=\"dataframe\">\n",
       "  <thead>\n",
       "    <tr style=\"text-align: right;\">\n",
       "      <th></th>\n",
       "      <th>vehicle_id</th>\n",
       "      <th>vin10</th>\n",
       "      <th>county</th>\n",
       "      <th>city</th>\n",
       "      <th>state</th>\n",
       "      <th>postal_code</th>\n",
       "      <th>model_year</th>\n",
       "      <th>make</th>\n",
       "      <th>model</th>\n",
       "      <th>ev_type</th>\n",
       "      <th>cafv</th>\n",
       "      <th>electric_range</th>\n",
       "      <th>legislative_district</th>\n",
       "      <th>electric_utility</th>\n",
       "      <th>census_tract</th>\n",
       "      <th>latitude</th>\n",
       "      <th>longitude</th>\n",
       "    </tr>\n",
       "  </thead>\n",
       "  <tbody>\n",
       "    <tr>\n",
       "      <th>0</th>\n",
       "      <td>259254397</td>\n",
       "      <td>WBY8P6C58K</td>\n",
       "      <td>king</td>\n",
       "      <td>seattle</td>\n",
       "      <td>wa</td>\n",
       "      <td>98115.0</td>\n",
       "      <td>2019</td>\n",
       "      <td>bmw</td>\n",
       "      <td>i3</td>\n",
       "      <td>bev</td>\n",
       "      <td>yes</td>\n",
       "      <td>153</td>\n",
       "      <td>43</td>\n",
       "      <td>city of seattle wa city of tacoma wa</td>\n",
       "      <td>5.303300e+10</td>\n",
       "      <td>-122.300824</td>\n",
       "      <td>47.686267</td>\n",
       "    </tr>\n",
       "    <tr>\n",
       "      <th>1</th>\n",
       "      <td>127420940</td>\n",
       "      <td>5YJSA1DN4D</td>\n",
       "      <td>kitsap</td>\n",
       "      <td>bremerton</td>\n",
       "      <td>wa</td>\n",
       "      <td>98312.0</td>\n",
       "      <td>2013</td>\n",
       "      <td>tesla</td>\n",
       "      <td>model s</td>\n",
       "      <td>bev</td>\n",
       "      <td>yes</td>\n",
       "      <td>337</td>\n",
       "      <td>35</td>\n",
       "      <td>puget sound energy inc</td>\n",
       "      <td>5.303508e+10</td>\n",
       "      <td>-122.696120</td>\n",
       "      <td>47.575958</td>\n",
       "    </tr>\n",
       "    <tr>\n",
       "      <th>2</th>\n",
       "      <td>170287183</td>\n",
       "      <td>5YJSA1E26J</td>\n",
       "      <td>king</td>\n",
       "      <td>kent</td>\n",
       "      <td>wa</td>\n",
       "      <td>98042.0</td>\n",
       "      <td>2018</td>\n",
       "      <td>tesla</td>\n",
       "      <td>model s</td>\n",
       "      <td>bev</td>\n",
       "      <td>yes</td>\n",
       "      <td>337</td>\n",
       "      <td>47</td>\n",
       "      <td>puget sound energy inc city of tacoma wa</td>\n",
       "      <td>5.303303e+10</td>\n",
       "      <td>-122.114514</td>\n",
       "      <td>47.358111</td>\n",
       "    </tr>\n",
       "    <tr>\n",
       "      <th>3</th>\n",
       "      <td>205545868</td>\n",
       "      <td>WBY2Z2C54E</td>\n",
       "      <td>king</td>\n",
       "      <td>bellevue</td>\n",
       "      <td>wa</td>\n",
       "      <td>98004.0</td>\n",
       "      <td>2014</td>\n",
       "      <td>bmw</td>\n",
       "      <td>i8</td>\n",
       "      <td>phev</td>\n",
       "      <td>no</td>\n",
       "      <td>18</td>\n",
       "      <td>41</td>\n",
       "      <td>puget sound energy inc city of tacoma wa</td>\n",
       "      <td>5.303302e+10</td>\n",
       "      <td>-122.202397</td>\n",
       "      <td>47.619252</td>\n",
       "    </tr>\n",
       "    <tr>\n",
       "      <th>4</th>\n",
       "      <td>237977386</td>\n",
       "      <td>5YJXCDE23J</td>\n",
       "      <td>king</td>\n",
       "      <td>bellevue</td>\n",
       "      <td>wa</td>\n",
       "      <td>98004.0</td>\n",
       "      <td>2018</td>\n",
       "      <td>tesla</td>\n",
       "      <td>model x</td>\n",
       "      <td>bev</td>\n",
       "      <td>yes</td>\n",
       "      <td>293</td>\n",
       "      <td>41</td>\n",
       "      <td>puget sound energy inc city of tacoma wa</td>\n",
       "      <td>5.303302e+10</td>\n",
       "      <td>-122.202397</td>\n",
       "      <td>47.619252</td>\n",
       "    </tr>\n",
       "  </tbody>\n",
       "</table>\n",
       "</div>"
      ],
      "text/plain": [
       "   vehicle_id       vin10  county       city state  postal_code  model_year  \\\n",
       "0   259254397  WBY8P6C58K    king    seattle    wa      98115.0        2019   \n",
       "1   127420940  5YJSA1DN4D  kitsap  bremerton    wa      98312.0        2013   \n",
       "2   170287183  5YJSA1E26J    king       kent    wa      98042.0        2018   \n",
       "3   205545868  WBY2Z2C54E    king   bellevue    wa      98004.0        2014   \n",
       "4   237977386  5YJXCDE23J    king   bellevue    wa      98004.0        2018   \n",
       "\n",
       "    make    model ev_type cafv  electric_range  legislative_district  \\\n",
       "0    bmw       i3     bev  yes             153                    43   \n",
       "1  tesla  model s     bev  yes             337                    35   \n",
       "2  tesla  model s     bev  yes             337                    47   \n",
       "3    bmw       i8    phev   no              18                    41   \n",
       "4  tesla  model x     bev  yes             293                    41   \n",
       "\n",
       "                           electric_utility  census_tract    latitude  \\\n",
       "0      city of seattle wa city of tacoma wa  5.303300e+10 -122.300824   \n",
       "1                    puget sound energy inc  5.303508e+10 -122.696120   \n",
       "2  puget sound energy inc city of tacoma wa  5.303303e+10 -122.114514   \n",
       "3  puget sound energy inc city of tacoma wa  5.303302e+10 -122.202397   \n",
       "4  puget sound energy inc city of tacoma wa  5.303302e+10 -122.202397   \n",
       "\n",
       "   longitude  \n",
       "0  47.686267  \n",
       "1  47.575958  \n",
       "2  47.358111  \n",
       "3  47.619252  \n",
       "4  47.619252  "
      ]
     },
     "execution_count": 191,
     "metadata": {},
     "output_type": "execute_result"
    }
   ],
   "source": [
    "# Открытие CSV файла\n",
    "df_clean = pd.read_csv('electric_cars_clean.csv')\n",
    "print(df_clean.shape)\n",
    "df_clean.head()"
   ]
  },
  {
   "cell_type": "code",
   "execution_count": 192,
   "id": "91d00548",
   "metadata": {},
   "outputs": [
    {
     "data": {
      "text/html": [
       "<div>\n",
       "<style scoped>\n",
       "    .dataframe tbody tr th:only-of-type {\n",
       "        vertical-align: middle;\n",
       "    }\n",
       "\n",
       "    .dataframe tbody tr th {\n",
       "        vertical-align: top;\n",
       "    }\n",
       "\n",
       "    .dataframe thead th {\n",
       "        text-align: right;\n",
       "    }\n",
       "</style>\n",
       "<table border=\"1\" class=\"dataframe\">\n",
       "  <thead>\n",
       "    <tr style=\"text-align: right;\">\n",
       "      <th></th>\n",
       "      <th>vehicle_id</th>\n",
       "      <th>vin10</th>\n",
       "      <th>county</th>\n",
       "      <th>city</th>\n",
       "      <th>state</th>\n",
       "      <th>postal_code</th>\n",
       "      <th>model_year</th>\n",
       "      <th>make</th>\n",
       "      <th>model</th>\n",
       "      <th>ev_type</th>\n",
       "      <th>cafv</th>\n",
       "      <th>electric_range</th>\n",
       "      <th>legislative_district</th>\n",
       "      <th>electric_utility</th>\n",
       "      <th>census_tract</th>\n",
       "      <th>latitude</th>\n",
       "      <th>longitude</th>\n",
       "      <th>car</th>\n",
       "    </tr>\n",
       "  </thead>\n",
       "  <tbody>\n",
       "    <tr>\n",
       "      <th>0</th>\n",
       "      <td>259254397</td>\n",
       "      <td>WBY8P6C58K</td>\n",
       "      <td>king</td>\n",
       "      <td>seattle</td>\n",
       "      <td>wa</td>\n",
       "      <td>98115.0</td>\n",
       "      <td>2019</td>\n",
       "      <td>bmw</td>\n",
       "      <td>i3</td>\n",
       "      <td>bev</td>\n",
       "      <td>yes</td>\n",
       "      <td>153</td>\n",
       "      <td>43</td>\n",
       "      <td>city of seattle wa city of tacoma wa</td>\n",
       "      <td>5.303300e+10</td>\n",
       "      <td>-122.300824</td>\n",
       "      <td>47.686267</td>\n",
       "      <td>bmw i3</td>\n",
       "    </tr>\n",
       "    <tr>\n",
       "      <th>1</th>\n",
       "      <td>127420940</td>\n",
       "      <td>5YJSA1DN4D</td>\n",
       "      <td>kitsap</td>\n",
       "      <td>bremerton</td>\n",
       "      <td>wa</td>\n",
       "      <td>98312.0</td>\n",
       "      <td>2013</td>\n",
       "      <td>tesla</td>\n",
       "      <td>model s</td>\n",
       "      <td>bev</td>\n",
       "      <td>yes</td>\n",
       "      <td>337</td>\n",
       "      <td>35</td>\n",
       "      <td>puget sound energy inc</td>\n",
       "      <td>5.303508e+10</td>\n",
       "      <td>-122.696120</td>\n",
       "      <td>47.575958</td>\n",
       "      <td>tesla model s</td>\n",
       "    </tr>\n",
       "    <tr>\n",
       "      <th>2</th>\n",
       "      <td>170287183</td>\n",
       "      <td>5YJSA1E26J</td>\n",
       "      <td>king</td>\n",
       "      <td>kent</td>\n",
       "      <td>wa</td>\n",
       "      <td>98042.0</td>\n",
       "      <td>2018</td>\n",
       "      <td>tesla</td>\n",
       "      <td>model s</td>\n",
       "      <td>bev</td>\n",
       "      <td>yes</td>\n",
       "      <td>337</td>\n",
       "      <td>47</td>\n",
       "      <td>puget sound energy inc city of tacoma wa</td>\n",
       "      <td>5.303303e+10</td>\n",
       "      <td>-122.114514</td>\n",
       "      <td>47.358111</td>\n",
       "      <td>tesla model s</td>\n",
       "    </tr>\n",
       "    <tr>\n",
       "      <th>3</th>\n",
       "      <td>205545868</td>\n",
       "      <td>WBY2Z2C54E</td>\n",
       "      <td>king</td>\n",
       "      <td>bellevue</td>\n",
       "      <td>wa</td>\n",
       "      <td>98004.0</td>\n",
       "      <td>2014</td>\n",
       "      <td>bmw</td>\n",
       "      <td>i8</td>\n",
       "      <td>phev</td>\n",
       "      <td>no</td>\n",
       "      <td>18</td>\n",
       "      <td>41</td>\n",
       "      <td>puget sound energy inc city of tacoma wa</td>\n",
       "      <td>5.303302e+10</td>\n",
       "      <td>-122.202397</td>\n",
       "      <td>47.619252</td>\n",
       "      <td>bmw i8</td>\n",
       "    </tr>\n",
       "    <tr>\n",
       "      <th>4</th>\n",
       "      <td>237977386</td>\n",
       "      <td>5YJXCDE23J</td>\n",
       "      <td>king</td>\n",
       "      <td>bellevue</td>\n",
       "      <td>wa</td>\n",
       "      <td>98004.0</td>\n",
       "      <td>2018</td>\n",
       "      <td>tesla</td>\n",
       "      <td>model x</td>\n",
       "      <td>bev</td>\n",
       "      <td>yes</td>\n",
       "      <td>293</td>\n",
       "      <td>41</td>\n",
       "      <td>puget sound energy inc city of tacoma wa</td>\n",
       "      <td>5.303302e+10</td>\n",
       "      <td>-122.202397</td>\n",
       "      <td>47.619252</td>\n",
       "      <td>tesla model x</td>\n",
       "    </tr>\n",
       "  </tbody>\n",
       "</table>\n",
       "</div>"
      ],
      "text/plain": [
       "   vehicle_id       vin10  county       city state  postal_code  model_year  \\\n",
       "0   259254397  WBY8P6C58K    king    seattle    wa      98115.0        2019   \n",
       "1   127420940  5YJSA1DN4D  kitsap  bremerton    wa      98312.0        2013   \n",
       "2   170287183  5YJSA1E26J    king       kent    wa      98042.0        2018   \n",
       "3   205545868  WBY2Z2C54E    king   bellevue    wa      98004.0        2014   \n",
       "4   237977386  5YJXCDE23J    king   bellevue    wa      98004.0        2018   \n",
       "\n",
       "    make    model ev_type cafv  electric_range  legislative_district  \\\n",
       "0    bmw       i3     bev  yes             153                    43   \n",
       "1  tesla  model s     bev  yes             337                    35   \n",
       "2  tesla  model s     bev  yes             337                    47   \n",
       "3    bmw       i8    phev   no              18                    41   \n",
       "4  tesla  model x     bev  yes             293                    41   \n",
       "\n",
       "                           electric_utility  census_tract    latitude  \\\n",
       "0      city of seattle wa city of tacoma wa  5.303300e+10 -122.300824   \n",
       "1                    puget sound energy inc  5.303508e+10 -122.696120   \n",
       "2  puget sound energy inc city of tacoma wa  5.303303e+10 -122.114514   \n",
       "3  puget sound energy inc city of tacoma wa  5.303302e+10 -122.202397   \n",
       "4  puget sound energy inc city of tacoma wa  5.303302e+10 -122.202397   \n",
       "\n",
       "   longitude            car  \n",
       "0  47.686267         bmw i3  \n",
       "1  47.575958  tesla model s  \n",
       "2  47.358111  tesla model s  \n",
       "3  47.619252         bmw i8  \n",
       "4  47.619252  tesla model x  "
      ]
     },
     "execution_count": 192,
     "metadata": {},
     "output_type": "execute_result"
    }
   ],
   "source": [
    "# Создание новой колонки 'car' с объединением значений из 'male' и 'model'\n",
    "df_clean['car'] = df_clean['make'] + ' ' + df_clean['model']\n",
    "df_clean.head()"
   ]
  },
  {
   "cell_type": "markdown",
   "id": "8ac3ebf4",
   "metadata": {},
   "source": [
    "## 3.1 Анализ распределения автомобилей"
   ]
  },
  {
   "cell_type": "markdown",
   "id": "37ef8f00",
   "metadata": {},
   "source": [
    "## 3.1.1 Распределние по видам авто (электро/гибриные)"
   ]
  },
  {
   "cell_type": "code",
   "execution_count": 193,
   "id": "cc7db939",
   "metadata": {},
   "outputs": [
    {
     "data": {
      "text/plain": [
       "bev     146021\n",
       "phev     40450\n",
       "Name: ev_type, dtype: int64"
      ]
     },
     "execution_count": 193,
     "metadata": {},
     "output_type": "execute_result"
    }
   ],
   "source": [
    "# Подсчет количества BEV и PHEV в штате\n",
    "state_counts = df_clean['ev_type'].value_counts()\n",
    "state_counts"
   ]
  },
  {
   "cell_type": "code",
   "execution_count": 194,
   "id": "582ee4ec",
   "metadata": {
    "scrolled": false
   },
   "outputs": [
    {
     "data": {
      "image/png": "[encoded data removed]",
      "text/plain": [
       "<Figure size 800x600 with 1 Axes>"
      ]
     },
     "metadata": {},
     "output_type": "display_data"
    }
   ],
   "source": [
    "# Создание круговой диаграммы\n",
    "plt.figure(figsize=(8, 6))\n",
    "plt.pie(state_counts.values, labels=state_counts.index, colors=['#523634', '#DDC5A2'],\n",
    "        autopct='%1.1f%%', startangle=140)\n",
    "\n",
    "plt.axis('equal')\n",
    "plt.tight_layout()\n",
    "plt.show()"
   ]
  },
  {
   "cell_type": "markdown",
   "id": "cc43e7f9",
   "metadata": {},
   "source": [
    "#### Наибольшее предпочтение отдаётся полностью электрическим автомобилям, нежели гибридным. "
   ]
  },
  {
   "cell_type": "code",
   "execution_count": 195,
   "id": "6c90917d",
   "metadata": {},
   "outputs": [
    {
     "data": {
      "text/plain": [
       "king         97012\n",
       "snohomish    22086\n",
       "pierce       14542\n",
       "clark        11005\n",
       "thurston      6779\n",
       "kitsap        6145\n",
       "spokane       4856\n",
       "whatcom       4455\n",
       "benton        2282\n",
       "skagit        2028\n",
       "Name: county, dtype: int64"
      ]
     },
     "execution_count": 195,
     "metadata": {},
     "output_type": "execute_result"
    }
   ],
   "source": [
    "# Топ 10 округов по количеству электромобилей\n",
    "top_counties = df_clean['county'].value_counts().head(10)\n",
    "top_counties"
   ]
  },
  {
   "cell_type": "code",
   "execution_count": 196,
   "id": "37c0eea4",
   "metadata": {},
   "outputs": [],
   "source": [
    "# Подсчет количества BEV и PHEV в каждом из топ 10 округов\n",
    "bev_top_counties = df_clean[df_clean['ev_type'] == 'bev'].groupby('county').size().reindex(top_counties.index, fill_value=0)\n",
    "phev_top_counties = df_clean[df_clean['ev_type'] == 'phev'].groupby('county').size().reindex(top_counties.index, fill_value=0)"
   ]
  },
  {
   "cell_type": "code",
   "execution_count": 197,
   "id": "ee90be81",
   "metadata": {},
   "outputs": [
    {
     "data": {
      "image/png": "[encoded data removed]",
      "text/plain": [
       "<Figure size 1000x600 with 1 Axes>"
      ]
     },
     "metadata": {},
     "output_type": "display_data"
    }
   ],
   "source": [
    "# Сортировка данных по убыванию общего количества автомобилей\n",
    "top_counties_sorted = top_counties.iloc[::-1]\n",
    "bev_counts_sorted = bev_top_counties.loc[top_counties_sorted.index]\n",
    "phev_counts_sorted = phev_top_counties.loc[top_counties_sorted.index]\n",
    "\n",
    "\n",
    "fig, ax = plt.subplots(figsize=(10, 6))\n",
    "\n",
    "index = range(len(top_counties_sorted))\n",
    "bar_height = 0.35\n",
    "\n",
    "# Создание горизонтальных столбцов для BEV и PHEV\n",
    "bars1 = plt.barh(index, bev_counts_sorted, bar_height, label='BEV', color='#523634')\n",
    "bars2 = plt.barh([i + bar_height for i in index], phev_counts_sorted, bar_height, label='PHEV', color='#DDC5A2')\n",
    "\n",
    "# Вывод значений снаружи столбцов\n",
    "for i, (bev, phev) in enumerate(zip(bev_counts_sorted, phev_counts_sorted)):\n",
    "    plt.text(bev + 1, i, str(bev), color='#523634', va='center', fontsize=8)\n",
    "    plt.text(phev + 1, i + bar_height, str(phev), color='#DDC5A2', va='center', fontsize=8)\n",
    "\n",
    "# Настройки осей и легенды\n",
    "plt.title('Распределение электромобилей по округам')\n",
    "plt.yticks([i + bar_height / 2 for i in index], top_counties_sorted.index)\n",
    "plt.legend()\n",
    "\n",
    "plt.tight_layout()\n",
    "plt.show()"
   ]
  },
  {
   "cell_type": "markdown",
   "id": "ece102e8",
   "metadata": {},
   "source": [
    "#### На данном графике видно, что электроавтомобиле имеют наибольшую поплуярность в штате King"
   ]
  },
  {
   "cell_type": "code",
   "execution_count": 198,
   "id": "0a60cb7c",
   "metadata": {},
   "outputs": [
    {
     "data": {
      "text/plain": [
       "seattle      30873\n",
       "bellevue      9370\n",
       "redmond       6747\n",
       "vancouver     6531\n",
       "bothell       6151\n",
       "kirkland      5608\n",
       "sammamish     5494\n",
       "renton        5399\n",
       "olympia       4501\n",
       "tacoma        3891\n",
       "Name: city, dtype: int64"
      ]
     },
     "execution_count": 198,
     "metadata": {},
     "output_type": "execute_result"
    }
   ],
   "source": [
    "# Топ 10 городов по количеству электромобилей\n",
    "top_cities = df_clean['city'].value_counts().head(10)\n",
    "top_cities"
   ]
  },
  {
   "cell_type": "code",
   "execution_count": 199,
   "id": "974c9113",
   "metadata": {},
   "outputs": [],
   "source": [
    "# Подсчет количества BEV и PHEV в каждом из топ 10 городов\n",
    "bev_top_cities = df_clean[df_clean['ev_type'] == 'bev'].groupby('city').size().reindex(top_cities.index, fill_value=0)\n",
    "phev_top_cities = df_clean[df_clean['ev_type'] == 'phev'].groupby('city').size().reindex(top_cities.index, fill_value=0)"
   ]
  },
  {
   "cell_type": "code",
   "execution_count": 200,
   "id": "d7b09d87",
   "metadata": {
    "scrolled": false
   },
   "outputs": [
    {
     "data": {
      "image/png": "[encoded data removed]",
      "text/plain": [
       "<Figure size 1000x600 with 1 Axes>"
      ]
     },
     "metadata": {},
     "output_type": "display_data"
    }
   ],
   "source": [
    "# Сортировка данных по убыванию общего количества автомобилей\n",
    "top_cities_sorted = top_cities.iloc[::-1]\n",
    "bev_counts_sorted = bev_top_cities.loc[top_cities_sorted.index]\n",
    "phev_counts_sorted = phev_top_cities.loc[top_cities_sorted.index]\n",
    "\n",
    "# Визуализация данных по городам\n",
    "fig, ax = plt.subplots(figsize=(10, 6))\n",
    "\n",
    "index = range(len(top_cities_sorted))\n",
    "bar_height = 0.35\n",
    "\n",
    "# Создание горизонтальных столбцов для BEV и PHEV\n",
    "bars1 = plt.barh(index, bev_counts_sorted, bar_height, label='BEV', color='#523634')\n",
    "bars2 = plt.barh([i + bar_height for i in index], phev_counts_sorted, bar_height, label='PHEV', color='#DDC5A2')\n",
    "\n",
    "# Вывод значений снаружи столбцов\n",
    "for i, (bev, phev) in enumerate(zip(bev_counts_sorted, phev_counts_sorted)):\n",
    "    plt.text(bev + 1, i, str(bev), color='#523634', va='center', fontsize=8)\n",
    "    plt.text(phev + 1, i + bar_height, str(phev), color='#DDC5A2', va='center', fontsize=8)\n",
    "\n",
    "# Настройки осей и легенды\n",
    "plt.title('Распределение электромобилей по городам')\n",
    "plt.yticks([i + bar_height / 2 for i in index], top_cities_sorted.index)\n",
    "plt.legend()\n",
    "\n",
    "plt.tight_layout()\n",
    "plt.show()"
   ]
  },
  {
   "cell_type": "markdown",
   "id": "933aaa1f",
   "metadata": {},
   "source": [
    "#### Вполне очевидно что наибольшее количество электроавтомобилей будет в центре округа Кинг - городе Сиэтл. На втором месте город Белвью - тоже из округа Кинг."
   ]
  },
  {
   "cell_type": "markdown",
   "id": "623ae094",
   "metadata": {},
   "source": [
    "## 3.1.2 Распределние по моделям авто"
   ]
  },
  {
   "cell_type": "code",
   "execution_count": 201,
   "id": "04cd81b6",
   "metadata": {
    "scrolled": true
   },
   "outputs": [],
   "source": [
    "# Топ-10 по штату Вашингтон\n",
    "top_10_state = df_clean['car'].value_counts().head(10)"
   ]
  },
  {
   "cell_type": "code",
   "execution_count": 202,
   "id": "9fc71d1f",
   "metadata": {},
   "outputs": [],
   "source": [
    "# Топ-10 по округу King\n",
    "top_10_king = df_clean[df_clean['county'] == 'king']['car'].value_counts().head(10)"
   ]
  },
  {
   "cell_type": "code",
   "execution_count": 203,
   "id": "4bf944e0",
   "metadata": {},
   "outputs": [],
   "source": [
    "# Топ-10 по городу Seattle \n",
    "top_10_seattle = df_clean[df_clean['city'] == 'seattle']['car'].value_counts().head(10)"
   ]
  },
  {
   "cell_type": "code",
   "execution_count": 204,
   "id": "ffc53776",
   "metadata": {},
   "outputs": [
    {
     "data": {
      "image/png": "[encoded data removed]",
      "text/plain": [
       "<Figure size 1000x600 with 1 Axes>"
      ]
     },
     "metadata": {},
     "output_type": "display_data"
    }
   ],
   "source": [
    "fig, ax = plt.subplots(figsize=(10, 6))\n",
    "\n",
    "bars = plt.barh(top_10_state.index, top_10_county_king.values, color='#DDC5A2')\n",
    "\n",
    "# Вывод значений снаружи столбцов\n",
    "for bar, value in zip(bars, top_10_state.values):\n",
    "    plt.text(bar.get_width() + 0.3, bar.get_y() + bar.get_height()/2, str(value), va='center', fontsize=8, color='#523634')\n",
    "\n",
    "plt.title('Топ-10 авто в штате Вашингтон')\n",
    "plt.gca().invert_yaxis()  \n",
    "plt.tight_layout()\n",
    "plt.show()"
   ]
  },
  {
   "cell_type": "code",
   "execution_count": 205,
   "id": "f6c5c23c",
   "metadata": {},
   "outputs": [
    {
     "data": {
      "image/png": "[encoded data removed]",
      "text/plain": [
       "<Figure size 1000x600 with 1 Axes>"
      ]
     },
     "metadata": {},
     "output_type": "display_data"
    }
   ],
   "source": [
    "fig, ax = plt.subplots(figsize=(10, 6))\n",
    "\n",
    "bars = plt.barh(top_10_king.index, top_10_county_king.values, color='#DDC5A2')\n",
    "\n",
    "# Вывод значений снаружи столбцов\n",
    "for bar, value in zip(bars, top_10_king.values):\n",
    "    plt.text(bar.get_width() + 0.3, bar.get_y() + bar.get_height()/2, str(value), va='center', fontsize=8, color='#523634')\n",
    "\n",
    "plt.title('Топ-10 авто в округе King')\n",
    "plt.gca().invert_yaxis()  \n",
    "plt.tight_layout()\n",
    "plt.show()"
   ]
  },
  {
   "cell_type": "code",
   "execution_count": 206,
   "id": "8f06efc2",
   "metadata": {},
   "outputs": [
    {
     "data": {
      "image/png": "[encoded data removed]",
      "text/plain": [
       "<Figure size 1000x600 with 1 Axes>"
      ]
     },
     "metadata": {},
     "output_type": "display_data"
    }
   ],
   "source": [
    "fig, ax = plt.subplots(figsize=(10, 6))\n",
    "\n",
    "bars = plt.barh(top_10_seattle.index, top_10_county_king.values, color='#DDC5A2')\n",
    "\n",
    "# Вывод значений снаружи столбцов\n",
    "for bar, value in zip(bars, top_10_seattle.values):\n",
    "    plt.text(bar.get_width() + 0.3, bar.get_y() + bar.get_height()/2, str(value), va='center', fontsize=8, color='#523634')\n",
    "\n",
    "plt.title('Топ-10 авто в городе Seattle')\n",
    "plt.gca().invert_yaxis()  \n",
    "plt.tight_layout()\n",
    "plt.show()"
   ]
  },
  {
   "cell_type": "markdown",
   "id": "49cfd023",
   "metadata": {},
   "source": [
    "#### В данный раздел анализа был взят полностью штат Вашингтон, самый популярный штат среди электроавтомобилей - Кинг, и так же самый популярный город - Сиэтл. На получившихся графиках можно увидеть, что лидирующие позицию по популярности среди моделей авто занимают Tesla Model Y, Tesla Model 3 и Nissan Leaf."
   ]
  },
  {
   "cell_type": "markdown",
   "id": "ca54890f",
   "metadata": {},
   "source": [
    "## 3.2 Анализ пробега электромобилей"
   ]
  },
  {
   "cell_type": "code",
   "execution_count": 207,
   "id": "4a8dc6bc",
   "metadata": {},
   "outputs": [
    {
     "name": "stdout",
     "output_type": "stream",
     "text": [
      "Средний пробег на одном заряде для электромобилей: 281.87\n",
      "Средний пробег на одном заряде для гибридных авто: 43.71\n"
     ]
    }
   ],
   "source": [
    "bev_avg_range = df_clean[df_clean['ev_type'] == 'bev']['electric_range'].mean()\n",
    "phev_avg_range = df_clean[df_clean['ev_type'] == 'phev']['electric_range'].mean()\n",
    "print(f\"Средний пробег на одном заряде для электромобилей: {bev_avg_range:.2f}\")\n",
    "print(f\"Средний пробег на одном заряде для гибридных авто: {phev_avg_range:.2f}\")"
   ]
  },
  {
   "cell_type": "code",
   "execution_count": 208,
   "id": "431cbf04",
   "metadata": {},
   "outputs": [
    {
     "name": "stdout",
     "output_type": "stream",
     "text": [
      "Средний electric_range для выбранных моделей:\n",
      "car\n",
      "nissan leaf      215.0\n",
      "tesla model 3    322.0\n",
      "tesla model y    291.0\n",
      "Name: electric_range, dtype: float64\n"
     ]
    }
   ],
   "source": [
    "# Выбор данных для определенных моделей\n",
    "selected_models = ['tesla model y', 'tesla model 3', 'nissan leaf']\n",
    "filtered_data = df_clean[df_clean['car'].str.lower().isin(selected_models)]\n",
    "\n",
    "# Расчет среднего electric_range для выбранных моделей\n",
    "avg_range_by_model = filtered_data.groupby('car')['electric_range'].mean()\n",
    "\n",
    "print(\"Средний electric_range для выбранных моделей:\")\n",
    "print(avg_range_by_model)"
   ]
  },
  {
   "cell_type": "markdown",
   "id": "ad6efdd1",
   "metadata": {},
   "source": [
    "#### Средний пробег у топ-3 популярных авто очень хорош. У моделей tesla пробег на одном заряде выше чем средний пробег всех электромобилей. У Nissan Leaf пробег на одном заряде чуть меньше среднестатистического, но его популярность может быть обусловлена ценой и его габаритами."
   ]
  },
  {
   "cell_type": "markdown",
   "id": "8ace5741",
   "metadata": {},
   "source": [
    "## 3.3 Анализ льгот и субсидий"
   ]
  },
  {
   "cell_type": "code",
   "execution_count": 209,
   "id": "e6ac9fe5",
   "metadata": {
    "scrolled": true
   },
   "outputs": [
    {
     "name": "stdout",
     "output_type": "stream",
     "text": [
      "Топ-10 моделей автомобилей, удовлетворяющих требованиям CAFV:\n",
      "tesla model 3        13832\n",
      "nissan leaf          10769\n",
      "tesla model s         6001\n",
      "chevrolet volt        4795\n",
      "chevrolet bolt ev     4463\n",
      "tesla model x         3324\n",
      "chrysler pacifica     3261\n",
      "toyota rav4 prime     2418\n",
      "tesla model y         2391\n",
      "bmw x5                1935\n",
      "Name: car, dtype: int64\n"
     ]
    }
   ],
   "source": [
    "cafv_eligible_models = df_clean[df_clean['cafv'].str.lower() == 'yes']['car'].value_counts().head(10)\n",
    "\n",
    "print(\"Топ-10 моделей автомобилей, удовлетворяющих требованиям CAFV:\")\n",
    "print(cafv_eligible_models)"
   ]
  },
  {
   "cell_type": "code",
   "execution_count": 219,
   "id": "d4afae8d",
   "metadata": {},
   "outputs": [
    {
     "name": "stdout",
     "output_type": "stream",
     "text": [
      "Процент авто, удовлетворяющих субсидиям и льготам: 36.3%\n"
     ]
    }
   ],
   "source": [
    "# Подсчет количества льготных авто\n",
    "yes_count = df_clean[df_clean['cafv'] == 'yes'].shape[0]\n",
    "\n",
    "# Общее количество записей в датасете\n",
    "total_records = df_clean.shape[0]\n",
    "\n",
    "percentage_yes = (yes_count / total_records) * 100\n",
    "\n",
    "print(f\"Процент авто, удовлетворяющих субсидиям и льготам: {percentage_yes:.1f}%\")"
   ]
  },
  {
   "cell_type": "markdown",
   "id": "89f1ec60",
   "metadata": {},
   "source": [
    "### Снова в топе Tesla Model 3 и Nissan Leaf, на данные авто проще получить льготы и субсидии. Так же, наиболее популярная Tesla Model Y имеет неплохие шансы на льготы и субсидии."
   ]
  },
  {
   "cell_type": "markdown",
   "id": "6c6492fa",
   "metadata": {},
   "source": [
    "## 4. Выводы"
   ]
  },
  {
   "cell_type": "markdown",
   "id": "70696f29",
   "metadata": {},
   "source": [
    "### Рынок электроавтомобилей в штате Вашингтон достаточно обширен. Представлены различные марки и модели авто, но лидером среди всех можно выделить производителя Tesla с моделями Y и 3. Это монополист в сфере электроавтомобилей. Но так же на рынке широко представлен японский Nissan Leaf, что может быть связано с его ценой, надежностью и габаритами.\n",
    "### Чуть более трети электроавтомобилей в штате имеют льготы и субсидии. Опять же лидером по этому показателю остается Tesla."
   ]
  },
  {
   "cell_type": "code",
   "execution_count": null,
   "id": "62422212",
   "metadata": {},
   "outputs": [],
   "source": []
  }
 ],
 "metadata": {
  "kernelspec": {
   "display_name": "Python 3 (ipykernel)",
   "language": "python",
   "name": "python3"
  },
  "language_info": {
   "codemirror_mode": {
    "name": "ipython",
    "version": 3
   },
   "file_extension": ".py",
   "mimetype": "text/x-python",
   "name": "python",
   "nbconvert_exporter": "python",
   "pygments_lexer": "ipython3",
   "version": "3.9.13"
  }
 },
 "nbformat": 4,
 "nbformat_minor": 5
}
